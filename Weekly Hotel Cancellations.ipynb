{
 "cells": [
  {
   "cell_type": "markdown",
   "metadata": {},
   "source": [
    "## Importing Libraries"
   ]
  },
  {
   "cell_type": "code",
   "execution_count": 1,
   "metadata": {},
   "outputs": [],
   "source": [
    "import tensorflow as tf"
   ]
  },
  {
   "cell_type": "code",
   "execution_count": 2,
   "metadata": {},
   "outputs": [],
   "source": [
    "tf.random.set_seed(1234)"
   ]
  },
  {
   "cell_type": "code",
   "execution_count": 3,
   "metadata": {},
   "outputs": [],
   "source": [
    "import csv\n",
    "import math\n",
    "import matplotlib.pyplot as plt\n",
    "import numpy as np\n",
    "import os\n",
    "import pandas as pd\n",
    "import random\n",
    "import statsmodels.api as sm\n",
    "import statsmodels.formula.api as smf\n",
    "\n",
    "from math import sqrt\n",
    "from numpy.random import seed\n",
    "seed(1)\n",
    "from pandas import DataFrame\n",
    "from sklearn.metrics import mean_absolute_error\n",
    "from sklearn.metrics import mean_squared_error\n",
    "from sklearn.model_selection import train_test_split\n",
    "from sklearn.preprocessing import MinMaxScaler\n",
    "from statsmodels.tsa.stattools import adfuller\n",
    "from tensorflow.keras.layers import Dense\n",
    "from tensorflow.keras import layers\n",
    "from tensorflow.keras.layers import LSTM"
   ]
  },
  {
   "cell_type": "code",
   "execution_count": 4,
   "metadata": {},
   "outputs": [],
   "source": [
    "dtypes = {\n",
    "        'IsCanceled':                                    'float64',\n",
    "        'LeadTime':                                          'float64',\n",
    "        'StaysInWeekendNights':                                     'float64',\n",
    "        'StaysInWeekNights':                                     'float64',\n",
    "        'Adults':                            'float64',\n",
    "        'Children':                            'float64',\n",
    "        'Babies':                                  'float64',\n",
    "        'Meal':                                    'category',\n",
    "        'Country':                                               'category',\n",
    "        'MarketSegment':                                    'category',\n",
    "        'DistributionChannel':                                       'category',\n",
    "        'IsRepeatedGuest':                               'float64',\n",
    "        'PreviousCancellations':                                    'float64',\n",
    "        'PreviousBookingsNotCanceled':                          'float64',\n",
    "        'ReservedRoomType':                                             'category',\n",
    "        'AssignedRoomType':                                            'category',\n",
    "        'BookingChanges':                                                'float64',\n",
    "        'DepositType':                                              'category',\n",
    "        'Agent':                                              'category',\n",
    "        'Company':                                 'category',\n",
    "        'DaysInWaitingList':                                           'float64',\n",
    "        'CustomerType':                                           'category',\n",
    "        'ADR':                                          'float64',\n",
    "        'RequiredCarParkingSpaces':                                      'float64',\n",
    "        'TotalOfSpecialRequests':                                              'float64',\n",
    "        'ReservationStatus':                                                'category'\n",
    "        }"
   ]
  },
  {
   "cell_type": "markdown",
   "metadata": {},
   "source": [
    "## Importing and  Manupulating Data"
   ]
  },
  {
   "cell_type": "markdown",
   "metadata": {},
   "source": [
    "As we have a dataset for classification model we have to convert it in oder to carry out time series analysis."
   ]
  },
  {
   "cell_type": "code",
   "execution_count": 5,
   "metadata": {},
   "outputs": [],
   "source": [
    "train_df = pd.read_csv(\"H1.csv\", dtype=dtypes, converters={'ArrivalDateWeekNumber': '{:0>2}'.format})"
   ]
  },
  {
   "cell_type": "code",
   "execution_count": 6,
   "metadata": {},
   "outputs": [
    {
     "data": {
      "text/plain": [
       "pandas.core.frame.DataFrame"
      ]
     },
     "execution_count": 6,
     "metadata": {},
     "output_type": "execute_result"
    }
   ],
   "source": [
    "a=train_df.head()\n",
    "b=train_df\n",
    "b\n",
    "c=b.sort_values(['ArrivalDateYear','ArrivalDateWeekNumber'], ascending=True)\n",
    "c=pd.DataFrame(c)\n",
    "c\n",
    "type(c)"
   ]
  },
  {
   "cell_type": "markdown",
   "metadata": {},
   "source": [
    "- Here we first merge Year and Week Number"
   ]
  },
  {
   "cell_type": "code",
   "execution_count": 7,
   "metadata": {},
   "outputs": [
    {
     "data": {
      "text/html": [
       "<div>\n",
       "<style scoped>\n",
       "    .dataframe tbody tr th:only-of-type {\n",
       "        vertical-align: middle;\n",
       "    }\n",
       "\n",
       "    .dataframe tbody tr th {\n",
       "        vertical-align: top;\n",
       "    }\n",
       "\n",
       "    .dataframe thead th {\n",
       "        text-align: right;\n",
       "    }\n",
       "</style>\n",
       "<table border=\"1\" class=\"dataframe\">\n",
       "  <thead>\n",
       "    <tr style=\"text-align: right;\">\n",
       "      <th></th>\n",
       "      <th>ArrivalDateYear</th>\n",
       "      <th>ArrivalDateWeekNumber</th>\n",
       "    </tr>\n",
       "  </thead>\n",
       "  <tbody>\n",
       "    <tr>\n",
       "      <th>0</th>\n",
       "      <td>2015</td>\n",
       "      <td>27</td>\n",
       "    </tr>\n",
       "    <tr>\n",
       "      <th>1</th>\n",
       "      <td>2015</td>\n",
       "      <td>27</td>\n",
       "    </tr>\n",
       "    <tr>\n",
       "      <th>2</th>\n",
       "      <td>2015</td>\n",
       "      <td>27</td>\n",
       "    </tr>\n",
       "    <tr>\n",
       "      <th>3</th>\n",
       "      <td>2015</td>\n",
       "      <td>27</td>\n",
       "    </tr>\n",
       "    <tr>\n",
       "      <th>4</th>\n",
       "      <td>2015</td>\n",
       "      <td>27</td>\n",
       "    </tr>\n",
       "    <tr>\n",
       "      <th>...</th>\n",
       "      <td>...</td>\n",
       "      <td>...</td>\n",
       "    </tr>\n",
       "    <tr>\n",
       "      <th>40055</th>\n",
       "      <td>2017</td>\n",
       "      <td>35</td>\n",
       "    </tr>\n",
       "    <tr>\n",
       "      <th>40056</th>\n",
       "      <td>2017</td>\n",
       "      <td>35</td>\n",
       "    </tr>\n",
       "    <tr>\n",
       "      <th>40057</th>\n",
       "      <td>2017</td>\n",
       "      <td>35</td>\n",
       "    </tr>\n",
       "    <tr>\n",
       "      <th>40058</th>\n",
       "      <td>2017</td>\n",
       "      <td>35</td>\n",
       "    </tr>\n",
       "    <tr>\n",
       "      <th>40059</th>\n",
       "      <td>2017</td>\n",
       "      <td>35</td>\n",
       "    </tr>\n",
       "  </tbody>\n",
       "</table>\n",
       "<p>40060 rows × 2 columns</p>\n",
       "</div>"
      ],
      "text/plain": [
       "       ArrivalDateYear ArrivalDateWeekNumber\n",
       "0                 2015                    27\n",
       "1                 2015                    27\n",
       "2                 2015                    27\n",
       "3                 2015                    27\n",
       "4                 2015                    27\n",
       "...                ...                   ...\n",
       "40055             2017                    35\n",
       "40056             2017                    35\n",
       "40057             2017                    35\n",
       "40058             2017                    35\n",
       "40059             2017                    35\n",
       "\n",
       "[40060 rows x 2 columns]"
      ]
     },
     "execution_count": 7,
     "metadata": {},
     "output_type": "execute_result"
    }
   ],
   "source": [
    "df = DataFrame(c, columns= ['ArrivalDateYear', 'ArrivalDateWeekNumber']) \n",
    "df"
   ]
  },
  {
   "cell_type": "code",
   "execution_count": 8,
   "metadata": {},
   "outputs": [
    {
     "name": "stdout",
     "output_type": "stream",
     "text": [
      "0        201527\n",
      "1        201527\n",
      "2        201527\n",
      "3        201527\n",
      "4        201527\n",
      "          ...  \n",
      "40055    201735\n",
      "40056    201735\n",
      "40057    201735\n",
      "40058    201735\n",
      "40059    201735\n",
      "Length: 40060, dtype: object\n"
     ]
    }
   ],
   "source": [
    "df1 = df['ArrivalDateYear'].map(str) + df['ArrivalDateWeekNumber'].map(str)\n",
    "print (df1)\n",
    "df1=pd.DataFrame(df1)"
   ]
  },
  {
   "cell_type": "code",
   "execution_count": 9,
   "metadata": {},
   "outputs": [
    {
     "data": {
      "text/html": [
       "<div>\n",
       "<style scoped>\n",
       "    .dataframe tbody tr th:only-of-type {\n",
       "        vertical-align: middle;\n",
       "    }\n",
       "\n",
       "    .dataframe tbody tr th {\n",
       "        vertical-align: top;\n",
       "    }\n",
       "\n",
       "    .dataframe thead th {\n",
       "        text-align: right;\n",
       "    }\n",
       "</style>\n",
       "<table border=\"1\" class=\"dataframe\">\n",
       "  <thead>\n",
       "    <tr style=\"text-align: right;\">\n",
       "      <th></th>\n",
       "      <th>IsCanceled</th>\n",
       "    </tr>\n",
       "  </thead>\n",
       "  <tbody>\n",
       "    <tr>\n",
       "      <th>0</th>\n",
       "      <td>0.0</td>\n",
       "    </tr>\n",
       "    <tr>\n",
       "      <th>1</th>\n",
       "      <td>0.0</td>\n",
       "    </tr>\n",
       "    <tr>\n",
       "      <th>2</th>\n",
       "      <td>0.0</td>\n",
       "    </tr>\n",
       "    <tr>\n",
       "      <th>3</th>\n",
       "      <td>0.0</td>\n",
       "    </tr>\n",
       "    <tr>\n",
       "      <th>4</th>\n",
       "      <td>0.0</td>\n",
       "    </tr>\n",
       "    <tr>\n",
       "      <th>...</th>\n",
       "      <td>...</td>\n",
       "    </tr>\n",
       "    <tr>\n",
       "      <th>40055</th>\n",
       "      <td>0.0</td>\n",
       "    </tr>\n",
       "    <tr>\n",
       "      <th>40056</th>\n",
       "      <td>0.0</td>\n",
       "    </tr>\n",
       "    <tr>\n",
       "      <th>40057</th>\n",
       "      <td>0.0</td>\n",
       "    </tr>\n",
       "    <tr>\n",
       "      <th>40058</th>\n",
       "      <td>0.0</td>\n",
       "    </tr>\n",
       "    <tr>\n",
       "      <th>40059</th>\n",
       "      <td>0.0</td>\n",
       "    </tr>\n",
       "  </tbody>\n",
       "</table>\n",
       "<p>40060 rows × 1 columns</p>\n",
       "</div>"
      ],
      "text/plain": [
       "       IsCanceled\n",
       "0             0.0\n",
       "1             0.0\n",
       "2             0.0\n",
       "3             0.0\n",
       "4             0.0\n",
       "...           ...\n",
       "40055         0.0\n",
       "40056         0.0\n",
       "40057         0.0\n",
       "40058         0.0\n",
       "40059         0.0\n",
       "\n",
       "[40060 rows x 1 columns]"
      ]
     },
     "execution_count": 9,
     "metadata": {},
     "output_type": "execute_result"
    }
   ],
   "source": [
    "df2 = DataFrame(c, columns= ['IsCanceled']) \n",
    "df2"
   ]
  },
  {
   "cell_type": "markdown",
   "metadata": {},
   "source": [
    "- Now we merge dates and Cancellation incidences"
   ]
  },
  {
   "cell_type": "code",
   "execution_count": 10,
   "metadata": {},
   "outputs": [],
   "source": [
    "df3=pd.concat([df1, df2], axis = 1)\n",
    "df3\n",
    "df3.columns = ['FullDate', 'IsCanceled']"
   ]
  },
  {
   "cell_type": "code",
   "execution_count": 11,
   "metadata": {},
   "outputs": [
    {
     "data": {
      "text/html": [
       "<div>\n",
       "<style scoped>\n",
       "    .dataframe tbody tr th:only-of-type {\n",
       "        vertical-align: middle;\n",
       "    }\n",
       "\n",
       "    .dataframe tbody tr th {\n",
       "        vertical-align: top;\n",
       "    }\n",
       "\n",
       "    .dataframe thead th {\n",
       "        text-align: right;\n",
       "    }\n",
       "</style>\n",
       "<table border=\"1\" class=\"dataframe\">\n",
       "  <thead>\n",
       "    <tr style=\"text-align: right;\">\n",
       "      <th></th>\n",
       "      <th>FullDate</th>\n",
       "      <th>IsCanceled</th>\n",
       "    </tr>\n",
       "  </thead>\n",
       "  <tbody>\n",
       "    <tr>\n",
       "      <th>0</th>\n",
       "      <td>201527</td>\n",
       "      <td>0.0</td>\n",
       "    </tr>\n",
       "    <tr>\n",
       "      <th>1</th>\n",
       "      <td>201527</td>\n",
       "      <td>0.0</td>\n",
       "    </tr>\n",
       "    <tr>\n",
       "      <th>2</th>\n",
       "      <td>201527</td>\n",
       "      <td>0.0</td>\n",
       "    </tr>\n",
       "    <tr>\n",
       "      <th>3</th>\n",
       "      <td>201527</td>\n",
       "      <td>0.0</td>\n",
       "    </tr>\n",
       "    <tr>\n",
       "      <th>4</th>\n",
       "      <td>201527</td>\n",
       "      <td>0.0</td>\n",
       "    </tr>\n",
       "    <tr>\n",
       "      <th>...</th>\n",
       "      <td>...</td>\n",
       "      <td>...</td>\n",
       "    </tr>\n",
       "    <tr>\n",
       "      <th>13799</th>\n",
       "      <td>201735</td>\n",
       "      <td>1.0</td>\n",
       "    </tr>\n",
       "    <tr>\n",
       "      <th>13800</th>\n",
       "      <td>201735</td>\n",
       "      <td>1.0</td>\n",
       "    </tr>\n",
       "    <tr>\n",
       "      <th>13801</th>\n",
       "      <td>201735</td>\n",
       "      <td>1.0</td>\n",
       "    </tr>\n",
       "    <tr>\n",
       "      <th>13802</th>\n",
       "      <td>201735</td>\n",
       "      <td>1.0</td>\n",
       "    </tr>\n",
       "    <tr>\n",
       "      <th>27627</th>\n",
       "      <td>201735</td>\n",
       "      <td>1.0</td>\n",
       "    </tr>\n",
       "  </tbody>\n",
       "</table>\n",
       "<p>40060 rows × 2 columns</p>\n",
       "</div>"
      ],
      "text/plain": [
       "      FullDate  IsCanceled\n",
       "0       201527         0.0\n",
       "1       201527         0.0\n",
       "2       201527         0.0\n",
       "3       201527         0.0\n",
       "4       201527         0.0\n",
       "...        ...         ...\n",
       "13799   201735         1.0\n",
       "13800   201735         1.0\n",
       "13801   201735         1.0\n",
       "13802   201735         1.0\n",
       "27627   201735         1.0\n",
       "\n",
       "[40060 rows x 2 columns]"
      ]
     },
     "execution_count": 11,
     "metadata": {},
     "output_type": "execute_result"
    }
   ],
   "source": [
    "df3\n",
    "df3.sort_values(['FullDate','IsCanceled'], ascending=True)"
   ]
  },
  {
   "cell_type": "markdown",
   "metadata": {},
   "source": [
    "- Taking sum of weekly cancellations and order by date"
   ]
  },
  {
   "cell_type": "code",
   "execution_count": 12,
   "metadata": {},
   "outputs": [
    {
     "data": {
      "text/html": [
       "<div>\n",
       "<style scoped>\n",
       "    .dataframe tbody tr th:only-of-type {\n",
       "        vertical-align: middle;\n",
       "    }\n",
       "\n",
       "    .dataframe tbody tr th {\n",
       "        vertical-align: top;\n",
       "    }\n",
       "\n",
       "    .dataframe thead th {\n",
       "        text-align: right;\n",
       "    }\n",
       "</style>\n",
       "<table border=\"1\" class=\"dataframe\">\n",
       "  <thead>\n",
       "    <tr style=\"text-align: right;\">\n",
       "      <th></th>\n",
       "      <th>IsCanceled</th>\n",
       "    </tr>\n",
       "    <tr>\n",
       "      <th>FullDate</th>\n",
       "      <th></th>\n",
       "    </tr>\n",
       "  </thead>\n",
       "  <tbody>\n",
       "    <tr>\n",
       "      <th>201527</th>\n",
       "      <td>41.0</td>\n",
       "    </tr>\n",
       "    <tr>\n",
       "      <th>201528</th>\n",
       "      <td>48.0</td>\n",
       "    </tr>\n",
       "    <tr>\n",
       "      <th>201529</th>\n",
       "      <td>87.0</td>\n",
       "    </tr>\n",
       "    <tr>\n",
       "      <th>201530</th>\n",
       "      <td>74.0</td>\n",
       "    </tr>\n",
       "    <tr>\n",
       "      <th>201531</th>\n",
       "      <td>101.0</td>\n",
       "    </tr>\n",
       "    <tr>\n",
       "      <th>...</th>\n",
       "      <td>...</td>\n",
       "    </tr>\n",
       "    <tr>\n",
       "      <th>201731</th>\n",
       "      <td>173.0</td>\n",
       "    </tr>\n",
       "    <tr>\n",
       "      <th>201732</th>\n",
       "      <td>140.0</td>\n",
       "    </tr>\n",
       "    <tr>\n",
       "      <th>201733</th>\n",
       "      <td>182.0</td>\n",
       "    </tr>\n",
       "    <tr>\n",
       "      <th>201734</th>\n",
       "      <td>143.0</td>\n",
       "    </tr>\n",
       "    <tr>\n",
       "      <th>201735</th>\n",
       "      <td>100.0</td>\n",
       "    </tr>\n",
       "  </tbody>\n",
       "</table>\n",
       "<p>115 rows × 1 columns</p>\n",
       "</div>"
      ],
      "text/plain": [
       "          IsCanceled\n",
       "FullDate            \n",
       "201527          41.0\n",
       "201528          48.0\n",
       "201529          87.0\n",
       "201530          74.0\n",
       "201531         101.0\n",
       "...              ...\n",
       "201731         173.0\n",
       "201732         140.0\n",
       "201733         182.0\n",
       "201734         143.0\n",
       "201735         100.0\n",
       "\n",
       "[115 rows x 1 columns]"
      ]
     },
     "execution_count": 12,
     "metadata": {},
     "output_type": "execute_result"
    }
   ],
   "source": [
    "df4 = df3.groupby('FullDate').agg(sum)\n",
    "df4\n",
    "df4.sort_values(['FullDate'], ascending=True)"
   ]
  },
  {
   "cell_type": "code",
   "execution_count": 13,
   "metadata": {},
   "outputs": [
    {
     "data": {
      "text/plain": [
       "FullDate\n",
       "201527     41.0\n",
       "201528     48.0\n",
       "201529     87.0\n",
       "201530     74.0\n",
       "201531    101.0\n",
       "          ...  \n",
       "201731    173.0\n",
       "201732    140.0\n",
       "201733    182.0\n",
       "201734    143.0\n",
       "201735    100.0\n",
       "Name: IsCanceled, Length: 115, dtype: float64"
      ]
     },
     "execution_count": 13,
     "metadata": {},
     "output_type": "execute_result"
    }
   ],
   "source": [
    "tseries=df4['IsCanceled']\n",
    "tseries"
   ]
  },
  {
   "cell_type": "code",
   "execution_count": 14,
   "metadata": {},
   "outputs": [
    {
     "name": "stdout",
     "output_type": "stream",
     "text": [
      "ADF Statistic: -2.914054\n",
      "p-value: 0.043738\n",
      "Critical Values:\n",
      "\t1%: -3.490\n",
      "\t5%: -2.888\n",
      "\t10%: -2.581\n"
     ]
    }
   ],
   "source": [
    "result = adfuller(tseries)\n",
    "print('ADF Statistic: %f' % result[0])\n",
    "print('p-value: %f' % result[1])\n",
    "print('Critical Values:')\n",
    "for key, value in result[4].items():\n",
    "    print('\\t%s: %.3f' % (key, value))"
   ]
  },
  {
   "cell_type": "code",
   "execution_count": 15,
   "metadata": {},
   "outputs": [
    {
     "data": {
      "image/png": "[encoded data removed]",
      "text/plain": [
       "<Figure size 432x288 with 1 Axes>"
      ]
     },
     "metadata": {
      "needs_background": "light"
     },
     "output_type": "display_data"
    }
   ],
   "source": [
    "import matplotlib.pyplot as plt\n",
    "plt.plot(tseries)\n",
    "plt.tick_params(\n",
    "    axis='x',          # changes apply to the x-axis\n",
    "    which='both',      # both major and minor ticks are affected\n",
    "    bottom=False,      # ticks along the bottom edge are off\n",
    "    top=False,         # ticks along the top edge are off\n",
    "    labelbottom=False) # labels along the bottom edge are off\n",
    "plt.xlabel('Weeks')\n",
    "plt.ylabel('Cancellations')\n",
    "plt.title(\"Cancellations Per Week\")\n",
    "plt.show()"
   ]
  },
  {
   "cell_type": "code",
   "execution_count": 16,
   "metadata": {},
   "outputs": [
    {
     "data": {
      "text/html": [
       "<div>\n",
       "<style scoped>\n",
       "    .dataframe tbody tr th:only-of-type {\n",
       "        vertical-align: middle;\n",
       "    }\n",
       "\n",
       "    .dataframe tbody tr th {\n",
       "        vertical-align: top;\n",
       "    }\n",
       "\n",
       "    .dataframe thead th {\n",
       "        text-align: right;\n",
       "    }\n",
       "</style>\n",
       "<table border=\"1\" class=\"dataframe\">\n",
       "  <thead>\n",
       "    <tr style=\"text-align: right;\">\n",
       "      <th></th>\n",
       "      <th>IsCanceled</th>\n",
       "    </tr>\n",
       "    <tr>\n",
       "      <th>FullDate</th>\n",
       "      <th></th>\n",
       "    </tr>\n",
       "  </thead>\n",
       "  <tbody>\n",
       "    <tr>\n",
       "      <th>201527</th>\n",
       "      <td>41.0</td>\n",
       "    </tr>\n",
       "    <tr>\n",
       "      <th>201528</th>\n",
       "      <td>48.0</td>\n",
       "    </tr>\n",
       "    <tr>\n",
       "      <th>201529</th>\n",
       "      <td>87.0</td>\n",
       "    </tr>\n",
       "    <tr>\n",
       "      <th>201530</th>\n",
       "      <td>74.0</td>\n",
       "    </tr>\n",
       "    <tr>\n",
       "      <th>201531</th>\n",
       "      <td>101.0</td>\n",
       "    </tr>\n",
       "    <tr>\n",
       "      <th>...</th>\n",
       "      <td>...</td>\n",
       "    </tr>\n",
       "    <tr>\n",
       "      <th>201731</th>\n",
       "      <td>173.0</td>\n",
       "    </tr>\n",
       "    <tr>\n",
       "      <th>201732</th>\n",
       "      <td>140.0</td>\n",
       "    </tr>\n",
       "    <tr>\n",
       "      <th>201733</th>\n",
       "      <td>182.0</td>\n",
       "    </tr>\n",
       "    <tr>\n",
       "      <th>201734</th>\n",
       "      <td>143.0</td>\n",
       "    </tr>\n",
       "    <tr>\n",
       "      <th>201735</th>\n",
       "      <td>100.0</td>\n",
       "    </tr>\n",
       "  </tbody>\n",
       "</table>\n",
       "<p>115 rows × 1 columns</p>\n",
       "</div>"
      ],
      "text/plain": [
       "          IsCanceled\n",
       "FullDate            \n",
       "201527          41.0\n",
       "201528          48.0\n",
       "201529          87.0\n",
       "201530          74.0\n",
       "201531         101.0\n",
       "...              ...\n",
       "201731         173.0\n",
       "201732         140.0\n",
       "201733         182.0\n",
       "201734         143.0\n",
       "201735         100.0\n",
       "\n",
       "[115 rows x 1 columns]"
      ]
     },
     "execution_count": 16,
     "metadata": {},
     "output_type": "execute_result"
    }
   ],
   "source": [
    "df=pd.DataFrame(tseries)\n",
    "df"
   ]
  },
  {
   "cell_type": "code",
   "execution_count": 17,
   "metadata": {},
   "outputs": [
    {
     "data": {
      "text/html": [
       "<div>\n",
       "<style scoped>\n",
       "    .dataframe tbody tr th:only-of-type {\n",
       "        vertical-align: middle;\n",
       "    }\n",
       "\n",
       "    .dataframe tbody tr th {\n",
       "        vertical-align: top;\n",
       "    }\n",
       "\n",
       "    .dataframe thead th {\n",
       "        text-align: right;\n",
       "    }\n",
       "</style>\n",
       "<table border=\"1\" class=\"dataframe\">\n",
       "  <thead>\n",
       "    <tr style=\"text-align: right;\">\n",
       "      <th></th>\n",
       "      <th>IsCanceled</th>\n",
       "    </tr>\n",
       "    <tr>\n",
       "      <th>FullDate</th>\n",
       "      <th></th>\n",
       "    </tr>\n",
       "  </thead>\n",
       "  <tbody>\n",
       "    <tr>\n",
       "      <th>201527</th>\n",
       "      <td>41.0</td>\n",
       "    </tr>\n",
       "    <tr>\n",
       "      <th>201528</th>\n",
       "      <td>48.0</td>\n",
       "    </tr>\n",
       "    <tr>\n",
       "      <th>201529</th>\n",
       "      <td>87.0</td>\n",
       "    </tr>\n",
       "    <tr>\n",
       "      <th>201530</th>\n",
       "      <td>74.0</td>\n",
       "    </tr>\n",
       "    <tr>\n",
       "      <th>201531</th>\n",
       "      <td>101.0</td>\n",
       "    </tr>\n",
       "  </tbody>\n",
       "</table>\n",
       "</div>"
      ],
      "text/plain": [
       "          IsCanceled\n",
       "FullDate            \n",
       "201527          41.0\n",
       "201528          48.0\n",
       "201529          87.0\n",
       "201530          74.0\n",
       "201531         101.0"
      ]
     },
     "execution_count": 17,
     "metadata": {},
     "output_type": "execute_result"
    }
   ],
   "source": [
    "df = df[:100]\n",
    "df.head()"
   ]
  },
  {
   "cell_type": "code",
   "execution_count": 18,
   "metadata": {},
   "outputs": [],
   "source": [
    "df=np.array(df)"
   ]
  },
  {
   "cell_type": "markdown",
   "metadata": {},
   "source": [
    "## Training and Validation"
   ]
  },
  {
   "cell_type": "code",
   "execution_count": 19,
   "metadata": {},
   "outputs": [],
   "source": [
    "train_size = int(len(df) * 0.8)\n",
    "val_size = len(df) - train_size\n",
    "train, val = df[0:train_size,:], df[train_size:len(df),:]"
   ]
  },
  {
   "cell_type": "markdown",
   "metadata": {},
   "source": [
    "## Dataset Matrix"
   ]
  },
  {
   "cell_type": "code",
   "execution_count": 20,
   "metadata": {},
   "outputs": [],
   "source": [
    "def create_dataset(df, previous=1):\n",
    "    dataX, dataY = [], []\n",
    "    for i in range(len(df)-previous-1):\n",
    "        a = df[i:(i+previous), 0]\n",
    "        dataX.append(a)\n",
    "        dataY.append(df[i + previous, 0])\n",
    "    return np.array(dataX), np.array(dataY)"
   ]
  },
  {
   "cell_type": "code",
   "execution_count": 21,
   "metadata": {},
   "outputs": [
    {
     "data": {
      "text/plain": [
       "array([[ 41.],\n",
       "       [ 48.],\n",
       "       [ 87.],\n",
       "       [ 74.],\n",
       "       [101.],\n",
       "       [ 68.],\n",
       "       [ 96.],\n",
       "       [ 69.],\n",
       "       [ 88.],\n",
       "       [148.],\n",
       "       [ 76.],\n",
       "       [186.],\n",
       "       [123.],\n",
       "       [ 91.],\n",
       "       [198.],\n",
       "       [ 16.],\n",
       "       [ 94.],\n",
       "       [ 44.],\n",
       "       [ 45.],\n",
       "       [ 54.],\n",
       "       [ 63.],\n",
       "       [ 18.],\n",
       "       [127.],\n",
       "       [ 24.],\n",
       "       [ 37.],\n",
       "       [ 79.],\n",
       "       [ 43.],\n",
       "       [ 35.],\n",
       "       [ 40.],\n",
       "       [ 14.],\n",
       "       [ 14.],\n",
       "       [ 15.],\n",
       "       [ 57.],\n",
       "       [176.],\n",
       "       [ 33.],\n",
       "       [133.],\n",
       "       [ 88.],\n",
       "       [ 48.],\n",
       "       [ 65.],\n",
       "       [118.],\n",
       "       [ 65.],\n",
       "       [ 80.],\n",
       "       [ 98.],\n",
       "       [116.],\n",
       "       [222.],\n",
       "       [ 79.],\n",
       "       [143.],\n",
       "       [141.],\n",
       "       [ 82.],\n",
       "       [ 99.],\n",
       "       [ 77.],\n",
       "       [110.],\n",
       "       [ 75.],\n",
       "       [ 80.],\n",
       "       [ 75.],\n",
       "       [119.],\n",
       "       [120.],\n",
       "       [ 98.],\n",
       "       [124.],\n",
       "       [149.],\n",
       "       [145.],\n",
       "       [118.],\n",
       "       [106.],\n",
       "       [121.],\n",
       "       [ 67.],\n",
       "       [129.],\n",
       "       [112.],\n",
       "       [118.],\n",
       "       [ 85.],\n",
       "       [182.],\n",
       "       [134.],\n",
       "       [111.],\n",
       "       [ 70.],\n",
       "       [ 39.],\n",
       "       [ 59.],\n",
       "       [ 74.],\n",
       "       [ 57.],\n",
       "       [ 36.],\n",
       "       [ 84.],\n",
       "       [ 95.],\n",
       "       [ 54.],\n",
       "       [ 42.],\n",
       "       [ 43.],\n",
       "       [ 51.],\n",
       "       [ 51.],\n",
       "       [ 91.],\n",
       "       [ 96.],\n",
       "       [128.],\n",
       "       [ 77.],\n",
       "       [126.],\n",
       "       [ 83.],\n",
       "       [ 49.],\n",
       "       [105.],\n",
       "       [109.],\n",
       "       [179.],\n",
       "       [104.],\n",
       "       [106.],\n",
       "       [167.],\n",
       "       [106.],\n",
       "       [ 79.]])"
      ]
     },
     "execution_count": 21,
     "metadata": {},
     "output_type": "execute_result"
    }
   ],
   "source": [
    "df"
   ]
  },
  {
   "cell_type": "code",
   "execution_count": 22,
   "metadata": {},
   "outputs": [],
   "source": [
    "# Lookback period\n",
    "lookback = 5\n",
    "X_train, Y_train = create_dataset(train, lookback)\n",
    "X_val, Y_val = create_dataset(val, lookback)"
   ]
  },
  {
   "cell_type": "code",
   "execution_count": 23,
   "metadata": {},
   "outputs": [
    {
     "data": {
      "text/plain": [
       "array([[ 41.,  48.,  87.,  74., 101.],\n",
       "       [ 48.,  87.,  74., 101.,  68.],\n",
       "       [ 87.,  74., 101.,  68.,  96.],\n",
       "       [ 74., 101.,  68.,  96.,  69.],\n",
       "       [101.,  68.,  96.,  69.,  88.],\n",
       "       [ 68.,  96.,  69.,  88., 148.],\n",
       "       [ 96.,  69.,  88., 148.,  76.],\n",
       "       [ 69.,  88., 148.,  76., 186.],\n",
       "       [ 88., 148.,  76., 186., 123.],\n",
       "       [148.,  76., 186., 123.,  91.],\n",
       "       [ 76., 186., 123.,  91., 198.],\n",
       "       [186., 123.,  91., 198.,  16.],\n",
       "       [123.,  91., 198.,  16.,  94.],\n",
       "       [ 91., 198.,  16.,  94.,  44.],\n",
       "       [198.,  16.,  94.,  44.,  45.],\n",
       "       [ 16.,  94.,  44.,  45.,  54.],\n",
       "       [ 94.,  44.,  45.,  54.,  63.],\n",
       "       [ 44.,  45.,  54.,  63.,  18.],\n",
       "       [ 45.,  54.,  63.,  18., 127.],\n",
       "       [ 54.,  63.,  18., 127.,  24.],\n",
       "       [ 63.,  18., 127.,  24.,  37.],\n",
       "       [ 18., 127.,  24.,  37.,  79.],\n",
       "       [127.,  24.,  37.,  79.,  43.],\n",
       "       [ 24.,  37.,  79.,  43.,  35.],\n",
       "       [ 37.,  79.,  43.,  35.,  40.],\n",
       "       [ 79.,  43.,  35.,  40.,  14.],\n",
       "       [ 43.,  35.,  40.,  14.,  14.],\n",
       "       [ 35.,  40.,  14.,  14.,  15.],\n",
       "       [ 40.,  14.,  14.,  15.,  57.],\n",
       "       [ 14.,  14.,  15.,  57., 176.],\n",
       "       [ 14.,  15.,  57., 176.,  33.],\n",
       "       [ 15.,  57., 176.,  33., 133.],\n",
       "       [ 57., 176.,  33., 133.,  88.],\n",
       "       [176.,  33., 133.,  88.,  48.],\n",
       "       [ 33., 133.,  88.,  48.,  65.],\n",
       "       [133.,  88.,  48.,  65., 118.],\n",
       "       [ 88.,  48.,  65., 118.,  65.],\n",
       "       [ 48.,  65., 118.,  65.,  80.],\n",
       "       [ 65., 118.,  65.,  80.,  98.],\n",
       "       [118.,  65.,  80.,  98., 116.],\n",
       "       [ 65.,  80.,  98., 116., 222.],\n",
       "       [ 80.,  98., 116., 222.,  79.],\n",
       "       [ 98., 116., 222.,  79., 143.],\n",
       "       [116., 222.,  79., 143., 141.],\n",
       "       [222.,  79., 143., 141.,  82.],\n",
       "       [ 79., 143., 141.,  82.,  99.],\n",
       "       [143., 141.,  82.,  99.,  77.],\n",
       "       [141.,  82.,  99.,  77., 110.],\n",
       "       [ 82.,  99.,  77., 110.,  75.],\n",
       "       [ 99.,  77., 110.,  75.,  80.],\n",
       "       [ 77., 110.,  75.,  80.,  75.],\n",
       "       [110.,  75.,  80.,  75., 119.],\n",
       "       [ 75.,  80.,  75., 119., 120.],\n",
       "       [ 80.,  75., 119., 120.,  98.],\n",
       "       [ 75., 119., 120.,  98., 124.],\n",
       "       [119., 120.,  98., 124., 149.],\n",
       "       [120.,  98., 124., 149., 145.],\n",
       "       [ 98., 124., 149., 145., 118.],\n",
       "       [124., 149., 145., 118., 106.],\n",
       "       [149., 145., 118., 106., 121.],\n",
       "       [145., 118., 106., 121.,  67.],\n",
       "       [118., 106., 121.,  67., 129.],\n",
       "       [106., 121.,  67., 129., 112.],\n",
       "       [121.,  67., 129., 112., 118.],\n",
       "       [ 67., 129., 112., 118.,  85.],\n",
       "       [129., 112., 118.,  85., 182.],\n",
       "       [112., 118.,  85., 182., 134.],\n",
       "       [118.,  85., 182., 134., 111.],\n",
       "       [ 85., 182., 134., 111.,  70.],\n",
       "       [182., 134., 111.,  70.,  39.],\n",
       "       [134., 111.,  70.,  39.,  59.],\n",
       "       [111.,  70.,  39.,  59.,  74.],\n",
       "       [ 70.,  39.,  59.,  74.,  57.],\n",
       "       [ 39.,  59.,  74.,  57.,  36.]])"
      ]
     },
     "execution_count": 23,
     "metadata": {},
     "output_type": "execute_result"
    }
   ],
   "source": [
    "X_train"
   ]
  },
  {
   "cell_type": "code",
   "execution_count": 24,
   "metadata": {},
   "outputs": [
    {
     "data": {
      "text/plain": [
       "array([[ 54.,  42.,  43.,  51.,  51.],\n",
       "       [ 42.,  43.,  51.,  51.,  91.],\n",
       "       [ 43.,  51.,  51.,  91.,  96.],\n",
       "       [ 51.,  51.,  91.,  96., 128.],\n",
       "       [ 51.,  91.,  96., 128.,  77.],\n",
       "       [ 91.,  96., 128.,  77., 126.],\n",
       "       [ 96., 128.,  77., 126.,  83.],\n",
       "       [128.,  77., 126.,  83.,  49.],\n",
       "       [ 77., 126.,  83.,  49., 105.],\n",
       "       [126.,  83.,  49., 105., 109.],\n",
       "       [ 83.,  49., 105., 109., 179.],\n",
       "       [ 49., 105., 109., 179., 104.],\n",
       "       [105., 109., 179., 104., 106.],\n",
       "       [109., 179., 104., 106., 167.]])"
      ]
     },
     "execution_count": 24,
     "metadata": {},
     "output_type": "execute_result"
    }
   ],
   "source": [
    "X_val"
   ]
  },
  {
   "cell_type": "code",
   "execution_count": 25,
   "metadata": {},
   "outputs": [
    {
     "data": {
      "text/plain": [
       "array([ 68.,  96.,  69.,  88., 148.,  76., 186., 123.,  91., 198.,  16.,\n",
       "        94.,  44.,  45.,  54.,  63.,  18., 127.,  24.,  37.,  79.,  43.,\n",
       "        35.,  40.,  14.,  14.,  15.,  57., 176.,  33., 133.,  88.,  48.,\n",
       "        65., 118.,  65.,  80.,  98., 116., 222.,  79., 143., 141.,  82.,\n",
       "        99.,  77., 110.,  75.,  80.,  75., 119., 120.,  98., 124., 149.,\n",
       "       145., 118., 106., 121.,  67., 129., 112., 118.,  85., 182., 134.,\n",
       "       111.,  70.,  39.,  59.,  74.,  57.,  36.,  84.])"
      ]
     },
     "execution_count": 25,
     "metadata": {},
     "output_type": "execute_result"
    }
   ],
   "source": [
    "Y_train"
   ]
  },
  {
   "cell_type": "markdown",
   "metadata": {},
   "source": [
    "## XGBoost Regressor"
   ]
  },
  {
   "cell_type": "code",
   "execution_count": 26,
   "metadata": {},
   "outputs": [
    {
     "data": {
      "text/plain": [
       "XGBRegressor(base_score=0.5, booster='gbtree', colsample_bylevel=1,\n",
       "             colsample_bynode=1, colsample_bytree=1, gamma=0, gpu_id=-1,\n",
       "             importance_type='gain', interaction_constraints='',\n",
       "             learning_rate=0.300000012, max_delta_step=0, max_depth=6,\n",
       "             min_child_weight=1, missing=nan, monotone_constraints='()',\n",
       "             n_estimators=1000, n_jobs=0, num_parallel_tree=1,\n",
       "             objective='reg:squarederror', random_state=0, reg_alpha=0,\n",
       "             reg_lambda=1, scale_pos_weight=1, subsample=1, tree_method='exact',\n",
       "             validate_parameters=1, verbosity=None)"
      ]
     },
     "execution_count": 26,
     "metadata": {},
     "output_type": "execute_result"
    }
   ],
   "source": [
    "from xgboost import XGBRegressor\n",
    "\n",
    "model = XGBRegressor(objective='reg:squarederror', n_estimators=1000)\n",
    "model.fit(X_train, Y_train)"
   ]
  },
  {
   "cell_type": "code",
   "execution_count": 27,
   "metadata": {},
   "outputs": [
    {
     "data": {
      "text/plain": [
       "array([ 68.00038 ,  95.99979 ,  69.00168 ,  88.00018 , 147.99892 ,\n",
       "        76.000656, 185.99991 , 122.999306,  91.00025 , 197.99966 ,\n",
       "        16.000645,  94.000175,  44.000202,  45.000084,  54.000114,\n",
       "        62.998703,  18.000082, 126.997375,  23.999302,  36.999702,\n",
       "        78.99984 ,  43.00141 ,  34.99988 ,  39.999607,  13.999907,\n",
       "        14.000368,  15.000608,  57.000042, 175.99893 ,  32.99998 ,\n",
       "       133.00035 ,  88.000145,  48.0007  ,  65.0003  , 118.00014 ,\n",
       "        64.999954,  80.00038 ,  98.00058 , 115.9998  , 221.99751 ,\n",
       "        78.999855, 142.9992  , 141.00027 ,  81.99925 ,  99.000275,\n",
       "        77.00032 , 110.00013 ,  74.99987 ,  80.0009  ,  75.00079 ,\n",
       "       118.99793 , 120.0002  ,  98.000145, 123.999916, 148.99962 ,\n",
       "       145.00026 , 117.999756, 105.999214, 120.999664,  67.001465,\n",
       "       128.99901 , 111.99981 , 118.00009 ,  85.00055 , 181.99738 ,\n",
       "       133.9994  , 111.001526,  70.00158 ,  39.0001  ,  58.99967 ,\n",
       "        74.00109 ,  56.999626,  36.001102,  84.00235 ], dtype=float32)"
      ]
     },
     "execution_count": 27,
     "metadata": {},
     "output_type": "execute_result"
    }
   ],
   "source": [
    "trainpred = model.predict(X_train)\n",
    "trainpred"
   ]
  },
  {
   "cell_type": "code",
   "execution_count": 28,
   "metadata": {},
   "outputs": [
    {
     "data": {
      "text/plain": [
       "array([ 19.767576,  62.593506,  80.718994,  60.782364, 129.0691  ,\n",
       "       112.3979  , 113.64816 ,  91.60748 , 105.40695 ,  62.221115,\n",
       "       109.42688 , 126.32669 ,  94.05386 ,  62.81558 ], dtype=float32)"
      ]
     },
     "execution_count": 28,
     "metadata": {},
     "output_type": "execute_result"
    }
   ],
   "source": [
    "valpred = model.predict(X_val)\n",
    "valpred"
   ]
  },
  {
   "cell_type": "code",
   "execution_count": 29,
   "metadata": {},
   "outputs": [
    {
     "data": {
      "text/plain": [
       "array([ 91.,  96., 128.,  77., 126.,  83.,  49., 105., 109., 179., 104.,\n",
       "       106., 167., 106.])"
      ]
     },
     "execution_count": 29,
     "metadata": {},
     "output_type": "execute_result"
    }
   ],
   "source": [
    "Y_val"
   ]
  },
  {
   "cell_type": "code",
   "execution_count": 30,
   "metadata": {},
   "outputs": [
    {
     "data": {
      "text/plain": [
       "array([[ 68.],\n",
       "       [ 96.],\n",
       "       [ 69.],\n",
       "       [ 88.],\n",
       "       [148.],\n",
       "       [ 76.],\n",
       "       [186.],\n",
       "       [123.],\n",
       "       [ 91.],\n",
       "       [198.],\n",
       "       [ 16.],\n",
       "       [ 94.],\n",
       "       [ 44.],\n",
       "       [ 45.],\n",
       "       [ 54.],\n",
       "       [ 63.],\n",
       "       [ 18.],\n",
       "       [127.],\n",
       "       [ 24.],\n",
       "       [ 37.],\n",
       "       [ 79.],\n",
       "       [ 43.],\n",
       "       [ 35.],\n",
       "       [ 40.],\n",
       "       [ 14.],\n",
       "       [ 14.],\n",
       "       [ 15.],\n",
       "       [ 57.],\n",
       "       [176.],\n",
       "       [ 33.],\n",
       "       [133.],\n",
       "       [ 88.],\n",
       "       [ 48.],\n",
       "       [ 65.],\n",
       "       [118.],\n",
       "       [ 65.],\n",
       "       [ 80.],\n",
       "       [ 98.],\n",
       "       [116.],\n",
       "       [222.],\n",
       "       [ 79.],\n",
       "       [143.],\n",
       "       [141.],\n",
       "       [ 82.],\n",
       "       [ 99.],\n",
       "       [ 77.],\n",
       "       [110.],\n",
       "       [ 75.],\n",
       "       [ 80.],\n",
       "       [ 75.],\n",
       "       [119.],\n",
       "       [120.],\n",
       "       [ 98.],\n",
       "       [124.],\n",
       "       [149.],\n",
       "       [145.],\n",
       "       [118.],\n",
       "       [106.],\n",
       "       [121.],\n",
       "       [ 67.],\n",
       "       [129.],\n",
       "       [112.],\n",
       "       [118.],\n",
       "       [ 85.],\n",
       "       [182.],\n",
       "       [134.],\n",
       "       [111.],\n",
       "       [ 70.],\n",
       "       [ 39.],\n",
       "       [ 59.],\n",
       "       [ 74.],\n",
       "       [ 57.],\n",
       "       [ 36.],\n",
       "       [ 84.]])"
      ]
     },
     "execution_count": 30,
     "metadata": {},
     "output_type": "execute_result"
    }
   ],
   "source": [
    "Y_train=Y_train.reshape(-1,1)\n",
    "Y_train"
   ]
  },
  {
   "cell_type": "code",
   "execution_count": 31,
   "metadata": {},
   "outputs": [
    {
     "data": {
      "text/plain": [
       "array([[ 68.00038 ],\n",
       "       [ 95.99979 ],\n",
       "       [ 69.00168 ],\n",
       "       [ 88.00018 ],\n",
       "       [147.99892 ],\n",
       "       [ 76.000656],\n",
       "       [185.99991 ],\n",
       "       [122.999306],\n",
       "       [ 91.00025 ],\n",
       "       [197.99966 ],\n",
       "       [ 16.000645],\n",
       "       [ 94.000175],\n",
       "       [ 44.000202],\n",
       "       [ 45.000084],\n",
       "       [ 54.000114],\n",
       "       [ 62.998703],\n",
       "       [ 18.000082],\n",
       "       [126.997375],\n",
       "       [ 23.999302],\n",
       "       [ 36.999702],\n",
       "       [ 78.99984 ],\n",
       "       [ 43.00141 ],\n",
       "       [ 34.99988 ],\n",
       "       [ 39.999607],\n",
       "       [ 13.999907],\n",
       "       [ 14.000368],\n",
       "       [ 15.000608],\n",
       "       [ 57.000042],\n",
       "       [175.99893 ],\n",
       "       [ 32.99998 ],\n",
       "       [133.00035 ],\n",
       "       [ 88.000145],\n",
       "       [ 48.0007  ],\n",
       "       [ 65.0003  ],\n",
       "       [118.00014 ],\n",
       "       [ 64.999954],\n",
       "       [ 80.00038 ],\n",
       "       [ 98.00058 ],\n",
       "       [115.9998  ],\n",
       "       [221.99751 ],\n",
       "       [ 78.999855],\n",
       "       [142.9992  ],\n",
       "       [141.00027 ],\n",
       "       [ 81.99925 ],\n",
       "       [ 99.000275],\n",
       "       [ 77.00032 ],\n",
       "       [110.00013 ],\n",
       "       [ 74.99987 ],\n",
       "       [ 80.0009  ],\n",
       "       [ 75.00079 ],\n",
       "       [118.99793 ],\n",
       "       [120.0002  ],\n",
       "       [ 98.000145],\n",
       "       [123.999916],\n",
       "       [148.99962 ],\n",
       "       [145.00026 ],\n",
       "       [117.999756],\n",
       "       [105.999214],\n",
       "       [120.999664],\n",
       "       [ 67.001465],\n",
       "       [128.99901 ],\n",
       "       [111.99981 ],\n",
       "       [118.00009 ],\n",
       "       [ 85.00055 ],\n",
       "       [181.99738 ],\n",
       "       [133.9994  ],\n",
       "       [111.001526],\n",
       "       [ 70.00158 ],\n",
       "       [ 39.0001  ],\n",
       "       [ 58.99967 ],\n",
       "       [ 74.00109 ],\n",
       "       [ 56.999626],\n",
       "       [ 36.001102],\n",
       "       [ 84.00235 ]], dtype=float32)"
      ]
     },
     "execution_count": 31,
     "metadata": {},
     "output_type": "execute_result"
    }
   ],
   "source": [
    "trainpred=trainpred.reshape(-1,1)\n",
    "trainpred"
   ]
  },
  {
   "cell_type": "code",
   "execution_count": 32,
   "metadata": {},
   "outputs": [
    {
     "data": {
      "text/plain": [
       "array([[ 91.],\n",
       "       [ 96.],\n",
       "       [128.],\n",
       "       [ 77.],\n",
       "       [126.],\n",
       "       [ 83.],\n",
       "       [ 49.],\n",
       "       [105.],\n",
       "       [109.],\n",
       "       [179.],\n",
       "       [104.],\n",
       "       [106.],\n",
       "       [167.],\n",
       "       [106.]])"
      ]
     },
     "execution_count": 32,
     "metadata": {},
     "output_type": "execute_result"
    }
   ],
   "source": [
    "Y_val=Y_val.reshape(-1,1)\n",
    "Y_val"
   ]
  },
  {
   "cell_type": "code",
   "execution_count": 33,
   "metadata": {},
   "outputs": [
    {
     "data": {
      "text/plain": [
       "array([[ 19.767576],\n",
       "       [ 62.593506],\n",
       "       [ 80.718994],\n",
       "       [ 60.782364],\n",
       "       [129.0691  ],\n",
       "       [112.3979  ],\n",
       "       [113.64816 ],\n",
       "       [ 91.60748 ],\n",
       "       [105.40695 ],\n",
       "       [ 62.221115],\n",
       "       [109.42688 ],\n",
       "       [126.32669 ],\n",
       "       [ 94.05386 ],\n",
       "       [ 62.81558 ]], dtype=float32)"
      ]
     },
     "execution_count": 33,
     "metadata": {},
     "output_type": "execute_result"
    }
   ],
   "source": [
    "valpred=valpred.reshape(-1,1)\n",
    "valpred"
   ]
  },
  {
   "cell_type": "code",
   "execution_count": 34,
   "metadata": {},
   "outputs": [
    {
     "name": "stdout",
     "output_type": "stream",
     "text": [
      "RMSE: 0.000887\n"
     ]
    }
   ],
   "source": [
    "#Training set root mean squared error\n",
    "train_mse = mean_squared_error(Y_train, trainpred)\n",
    "rmse = sqrt(train_mse)\n",
    "print('RMSE: %f' % rmse)"
   ]
  },
  {
   "cell_type": "code",
   "execution_count": 35,
   "metadata": {},
   "outputs": [
    {
     "name": "stdout",
     "output_type": "stream",
     "text": [
      "RMSE: 50.142536\n"
     ]
    }
   ],
   "source": [
    "#Validation set root mean squared error\n",
    "val_mse = mean_squared_error(Y_val, valpred)\n",
    "rmse = sqrt(val_mse)\n",
    "print('RMSE: %f' % rmse)"
   ]
  },
  {
   "cell_type": "code",
   "execution_count": 36,
   "metadata": {},
   "outputs": [
    {
     "data": {
      "text/plain": [
       "(14, 1)"
      ]
     },
     "execution_count": 36,
     "metadata": {},
     "output_type": "execute_result"
    }
   ],
   "source": [
    "Y_val.shape"
   ]
  },
  {
   "cell_type": "code",
   "execution_count": 37,
   "metadata": {},
   "outputs": [
    {
     "data": {
      "text/plain": [
       "array([[ 91.],\n",
       "       [ 96.],\n",
       "       [128.],\n",
       "       [ 77.],\n",
       "       [126.],\n",
       "       [ 83.],\n",
       "       [ 49.],\n",
       "       [105.],\n",
       "       [109.],\n",
       "       [179.],\n",
       "       [104.],\n",
       "       [106.],\n",
       "       [167.],\n",
       "       [106.]])"
      ]
     },
     "execution_count": 37,
     "metadata": {},
     "output_type": "execute_result"
    }
   ],
   "source": [
    "Y_val"
   ]
  },
  {
   "cell_type": "code",
   "execution_count": 38,
   "metadata": {},
   "outputs": [],
   "source": [
    "Y_val=Y_val.reshape(-1)\n",
    "Y_val.shape\n",
    "Y_val=pd.Series(Y_val)"
   ]
  },
  {
   "cell_type": "code",
   "execution_count": 39,
   "metadata": {},
   "outputs": [
    {
     "data": {
      "text/plain": [
       "109.0"
      ]
     },
     "execution_count": 39,
     "metadata": {},
     "output_type": "execute_result"
    }
   ],
   "source": [
    "np.mean(Y_val)"
   ]
  }
 ],
 "metadata": {
  "kernelspec": {
   "display_name": "Python 3",
   "language": "python",
   "name": "python3"
  },
  "language_info": {
   "codemirror_mode": {
    "name": "ipython",
    "version": 3
   },
   "file_extension": ".py",
   "mimetype": "text/x-python",
   "name": "python",
   "nbconvert_exporter": "python",
   "pygments_lexer": "ipython3",
   "version": "3.7.6"
  }
 },
 "nbformat": 4,
 "nbformat_minor": 4
}
