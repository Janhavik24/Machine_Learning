{
  "nbformat": 4,
  "nbformat_minor": 0,
  "metadata": {
    "colab": {
      "name": "Datetime Feature Engineering.ipynb",
      "provenance": [],
      "collapsed_sections": [],
      "authorship_tag": "ABX9TyOb0SZbecpiuMI68V9w7aR9",
      "include_colab_link": true
    },
    "kernelspec": {
      "name": "python3",
      "display_name": "Python 3"
    },
    "language_info": {
      "name": "python"
    }
  },
  "cells": [
    {
      "cell_type": "markdown",
      "metadata": {
        "id": "view-in-github",
        "colab_type": "text"
      },
      "source": [
        "<a href=\"https://colab.research.google.com/github/Janhavik24/Machine_Learning/blob/main/Datetime_Feature_Engineering.ipynb\" target=\"_parent\"><img src=\"https://colab.research.google.com/assets/colab-badge.svg\" alt=\"Open In Colab\"/></a>"
      ]
    },
    {
      "cell_type": "markdown",
      "metadata": {
        "id": "2c1erI06NjKP"
      },
      "source": [
        "## Datetime Feature Engineering"
      ]
    },
    {
      "cell_type": "code",
      "metadata": {
        "id": "ilkDsch3LyX2"
      },
      "source": [
        "import pandas as pd\n",
        "import numpy as np\n",
        "import datetime\n",
        "from fastai.tabular import add_datepart"
      ],
      "execution_count": 1,
      "outputs": []
    },
    {
      "cell_type": "markdown",
      "metadata": {
        "id": "z2C38y7fMu18"
      },
      "source": [
        " **While using machine learning models in order to forecast time series datetime features can prove really useful. One can simply create them one by one by using pandas and datetime library or can use add_datepart package from fastai to automatically create the features.**\n",
        "  \n",
        "  \n",
        "  **In this notebook I'm going to use three different methodologies to create datetime features. So lets start with traditional method;**"
      ]
    },
    {
      "cell_type": "markdown",
      "metadata": {
        "id": "flu_CS9XNrYE"
      },
      "source": [
        "## Using our very own Pandas"
      ]
    },
    {
      "cell_type": "code",
      "metadata": {
        "colab": {
          "base_uri": "https://localhost:8080/",
          "height": 204
        },
        "id": "hBRuWoU9MP0a",
        "outputId": "c49b2dca-11c9-4b29-e205-0b3a6092bddb"
      },
      "source": [
        "#We will create a series of minutely datetime values starting from 2005 to 2021 as shown below with some random numbers as values\n",
        "df = pd.DataFrame()\n",
        "df['datetime'] = pd.date_range(start = '2001-01-01', end = '2021-12-31', freq = '1Min')\n",
        "#Let's consider poisson distribution in order to draw a random sample\n",
        "df['No. of visitors'] = np.random.poisson(lam=1.0, size=len(df))\n",
        "df1 = df.copy()\n",
        "df.head()"
      ],
      "execution_count": 2,
      "outputs": [
        {
          "output_type": "execute_result",
          "data": {
            "text/html": [
              "<div>\n",
              "<style scoped>\n",
              "    .dataframe tbody tr th:only-of-type {\n",
              "        vertical-align: middle;\n",
              "    }\n",
              "\n",
              "    .dataframe tbody tr th {\n",
              "        vertical-align: top;\n",
              "    }\n",
              "\n",
              "    .dataframe thead th {\n",
              "        text-align: right;\n",
              "    }\n",
              "</style>\n",
              "<table border=\"1\" class=\"dataframe\">\n",
              "  <thead>\n",
              "    <tr style=\"text-align: right;\">\n",
              "      <th></th>\n",
              "      <th>datetime</th>\n",
              "      <th>No. of visitors</th>\n",
              "    </tr>\n",
              "  </thead>\n",
              "  <tbody>\n",
              "    <tr>\n",
              "      <th>0</th>\n",
              "      <td>2001-01-01 00:00:00</td>\n",
              "      <td>2</td>\n",
              "    </tr>\n",
              "    <tr>\n",
              "      <th>1</th>\n",
              "      <td>2001-01-01 00:01:00</td>\n",
              "      <td>1</td>\n",
              "    </tr>\n",
              "    <tr>\n",
              "      <th>2</th>\n",
              "      <td>2001-01-01 00:02:00</td>\n",
              "      <td>3</td>\n",
              "    </tr>\n",
              "    <tr>\n",
              "      <th>3</th>\n",
              "      <td>2001-01-01 00:03:00</td>\n",
              "      <td>0</td>\n",
              "    </tr>\n",
              "    <tr>\n",
              "      <th>4</th>\n",
              "      <td>2001-01-01 00:04:00</td>\n",
              "      <td>2</td>\n",
              "    </tr>\n",
              "  </tbody>\n",
              "</table>\n",
              "</div>"
            ],
            "text/plain": [
              "             datetime  No. of visitors\n",
              "0 2001-01-01 00:00:00                2\n",
              "1 2001-01-01 00:01:00                1\n",
              "2 2001-01-01 00:02:00                3\n",
              "3 2001-01-01 00:03:00                0\n",
              "4 2001-01-01 00:04:00                2"
            ]
          },
          "metadata": {},
          "execution_count": 2
        }
      ]
    },
    {
      "cell_type": "markdown",
      "metadata": {
        "id": "an9VZTmJV7OE"
      },
      "source": [
        "While creating the dataframe as mentioned above, following alias for frequency can come handy;\n",
        "\n",
        "\n",
        "**Alias**     **Description**\n",
        "\n",
        "\n",
        "\n",
        "\n",
        "\n",
        "B   :      business day frequency  \n",
        "C   :      custom business day frequency (experimental)  \n",
        "D   :       calendar day frequency  \n",
        "W   :      weekly frequency  \n",
        "M   :      month end frequency  \n",
        "BM  :      business month end frequency  \n",
        "CBM :      custom business month end frequency  \n",
        "MS  :      month start frequency  \n",
        "BMS :      business month start frequency  \n",
        "CBMS:      custom business month start frequency  \n",
        "Q   :      quarter end frequency  \n",
        "BQ  :      business quarter endfrequency  \n",
        "QS  :      quarter start frequency  \n",
        "BQS :      business quarter start frequency  \n",
        "A   :      year end frequency  \n",
        "BA  :      business year end frequency  \n",
        "AS  :      year start frequency  \n",
        "BAS :      business year start frequency  \n",
        "BH  :      business hour frequency  \n",
        "H   :      hourly frequency  \n",
        "T, min :   minutely frequency  \n",
        "S   :      secondly frequency  \n",
        "L, ms:     milliseconds  \n",
        "U, us:     microseconds  \n",
        "N    :     nanoseconds  \n"
      ]
    },
    {
      "cell_type": "code",
      "metadata": {
        "colab": {
          "base_uri": "https://localhost:8080/",
          "height": 360
        },
        "id": "aGAXfvFQMaHD",
        "outputId": "46eee83c-4181-4966-9ebc-530977dd3c0a"
      },
      "source": [
        "#Now as we have our dataframe let's create features from the datetime column\n",
        "df['date'] = df.datetime.dt.date                                                #This will extract date from given datetime value\n",
        "df['time'] = df.datetime.dt.time                                                #This particular command wwill extract time from given datetime value\n",
        "df['minute'] = df.datetime.dt.minute                                            #It will extract only the minute part of the datetime value\n",
        "df['Hour'] = df.datetime.dt.hour                                                #It will extract only the hour part of the datetime value\n",
        "df['day'] = df.datetime.dt.day                                                  #It will give the position of day in that particular month\n",
        "df['day_of_week'] = df.datetime.dt.dayofweek                                    #It will give the position of day in that particular week\n",
        "# df['day_of_month'] = df.datetime.dt.days_in_month                             #It will give the position of day in that particular month(alternative for day only)\n",
        "df['day_of_year'] = df.datetime.dt.dayofyear                                    #It will give the position of day in that particular year\n",
        "df['day_name'] = df.datetime.dt.day_name()                                      #It will give the name of days of week\n",
        "df['week'] = df.datetime.dt.isocalendar().week                                  #It will give the week in which given dateime value falls\n",
        "df['week_of_year'] = df.datetime.dt.weekofyear                                  #It will return the position of the week in the given year in which datetime value falls\n",
        "df['month'] = df.datetime.dt.month                                              #It will return the value of month for given datetime value\n",
        "df['month_name'] = df.datetime.dt.month_name()                                  #It will return name of the month\n",
        "df['year'] = df.datetime.dt.year                                                #It will extract the year part from given datetime value\n",
        "df.tail()"
      ],
      "execution_count": 3,
      "outputs": [
        {
          "output_type": "stream",
          "text": [
            "/usr/local/lib/python3.7/dist-packages/ipykernel_launcher.py:12: FutureWarning: Series.dt.weekofyear and Series.dt.week have been deprecated.  Please use Series.dt.isocalendar().week instead.\n",
            "  if sys.path[0] == '':\n"
          ],
          "name": "stderr"
        },
        {
          "output_type": "execute_result",
          "data": {
            "text/html": [
              "<div>\n",
              "<style scoped>\n",
              "    .dataframe tbody tr th:only-of-type {\n",
              "        vertical-align: middle;\n",
              "    }\n",
              "\n",
              "    .dataframe tbody tr th {\n",
              "        vertical-align: top;\n",
              "    }\n",
              "\n",
              "    .dataframe thead th {\n",
              "        text-align: right;\n",
              "    }\n",
              "</style>\n",
              "<table border=\"1\" class=\"dataframe\">\n",
              "  <thead>\n",
              "    <tr style=\"text-align: right;\">\n",
              "      <th></th>\n",
              "      <th>datetime</th>\n",
              "      <th>No. of visitors</th>\n",
              "      <th>date</th>\n",
              "      <th>time</th>\n",
              "      <th>minute</th>\n",
              "      <th>Hour</th>\n",
              "      <th>day</th>\n",
              "      <th>day_of_week</th>\n",
              "      <th>day_of_year</th>\n",
              "      <th>day_name</th>\n",
              "      <th>week</th>\n",
              "      <th>week_of_year</th>\n",
              "      <th>month</th>\n",
              "      <th>month_name</th>\n",
              "      <th>year</th>\n",
              "    </tr>\n",
              "  </thead>\n",
              "  <tbody>\n",
              "    <tr>\n",
              "      <th>11043356</th>\n",
              "      <td>2021-12-30 23:56:00</td>\n",
              "      <td>0</td>\n",
              "      <td>2021-12-30</td>\n",
              "      <td>23:56:00</td>\n",
              "      <td>56</td>\n",
              "      <td>23</td>\n",
              "      <td>30</td>\n",
              "      <td>3</td>\n",
              "      <td>364</td>\n",
              "      <td>Thursday</td>\n",
              "      <td>52</td>\n",
              "      <td>52</td>\n",
              "      <td>12</td>\n",
              "      <td>December</td>\n",
              "      <td>2021</td>\n",
              "    </tr>\n",
              "    <tr>\n",
              "      <th>11043357</th>\n",
              "      <td>2021-12-30 23:57:00</td>\n",
              "      <td>3</td>\n",
              "      <td>2021-12-30</td>\n",
              "      <td>23:57:00</td>\n",
              "      <td>57</td>\n",
              "      <td>23</td>\n",
              "      <td>30</td>\n",
              "      <td>3</td>\n",
              "      <td>364</td>\n",
              "      <td>Thursday</td>\n",
              "      <td>52</td>\n",
              "      <td>52</td>\n",
              "      <td>12</td>\n",
              "      <td>December</td>\n",
              "      <td>2021</td>\n",
              "    </tr>\n",
              "    <tr>\n",
              "      <th>11043358</th>\n",
              "      <td>2021-12-30 23:58:00</td>\n",
              "      <td>2</td>\n",
              "      <td>2021-12-30</td>\n",
              "      <td>23:58:00</td>\n",
              "      <td>58</td>\n",
              "      <td>23</td>\n",
              "      <td>30</td>\n",
              "      <td>3</td>\n",
              "      <td>364</td>\n",
              "      <td>Thursday</td>\n",
              "      <td>52</td>\n",
              "      <td>52</td>\n",
              "      <td>12</td>\n",
              "      <td>December</td>\n",
              "      <td>2021</td>\n",
              "    </tr>\n",
              "    <tr>\n",
              "      <th>11043359</th>\n",
              "      <td>2021-12-30 23:59:00</td>\n",
              "      <td>1</td>\n",
              "      <td>2021-12-30</td>\n",
              "      <td>23:59:00</td>\n",
              "      <td>59</td>\n",
              "      <td>23</td>\n",
              "      <td>30</td>\n",
              "      <td>3</td>\n",
              "      <td>364</td>\n",
              "      <td>Thursday</td>\n",
              "      <td>52</td>\n",
              "      <td>52</td>\n",
              "      <td>12</td>\n",
              "      <td>December</td>\n",
              "      <td>2021</td>\n",
              "    </tr>\n",
              "    <tr>\n",
              "      <th>11043360</th>\n",
              "      <td>2021-12-31 00:00:00</td>\n",
              "      <td>2</td>\n",
              "      <td>2021-12-31</td>\n",
              "      <td>00:00:00</td>\n",
              "      <td>0</td>\n",
              "      <td>0</td>\n",
              "      <td>31</td>\n",
              "      <td>4</td>\n",
              "      <td>365</td>\n",
              "      <td>Friday</td>\n",
              "      <td>52</td>\n",
              "      <td>52</td>\n",
              "      <td>12</td>\n",
              "      <td>December</td>\n",
              "      <td>2021</td>\n",
              "    </tr>\n",
              "  </tbody>\n",
              "</table>\n",
              "</div>"
            ],
            "text/plain": [
              "                    datetime  No. of visitors  ... month_name  year\n",
              "11043356 2021-12-30 23:56:00                0  ...   December  2021\n",
              "11043357 2021-12-30 23:57:00                3  ...   December  2021\n",
              "11043358 2021-12-30 23:58:00                2  ...   December  2021\n",
              "11043359 2021-12-30 23:59:00                1  ...   December  2021\n",
              "11043360 2021-12-31 00:00:00                2  ...   December  2021\n",
              "\n",
              "[5 rows x 15 columns]"
            ]
          },
          "metadata": {},
          "execution_count": 3
        }
      ]
    },
    {
      "cell_type": "markdown",
      "metadata": {
        "id": "V9fDrK9aXPIC"
      },
      "source": [
        "Now as we saw the pandas commands to create features; but here we have to type separate command for each feature, thus let's move to more convinient way that will help us to quickly create features with least possible amount of code."
      ]
    },
    {
      "cell_type": "markdown",
      "metadata": {
        "id": "-zP4AyUCE4Zx"
      },
      "source": [
        "## Datetime library"
      ]
    },
    {
      "cell_type": "code",
      "metadata": {
        "colab": {
          "base_uri": "https://localhost:8080/",
          "height": 204
        },
        "id": "EhYDyryOE3tB",
        "outputId": "2d3e8937-202d-4326-d251-42683c67e850"
      },
      "source": [
        "df = df1.copy()\n",
        "df['date'] = df.datetime.apply(lambda x: x.date())\n",
        "df['month'] = df.datetime.apply(lambda x: x.month)\n",
        "df['year'] = df.datetime.apply(lambda x: x.year)\n",
        "df['week'] = df.datetime.apply(lambda x: x.weekday())\n",
        "df['hour'] = df.datetime.apply(lambda x: x.hour)\n",
        "df['time'] = df.datetime.apply(lambda x: x.time)\n",
        "df['minute'] = df.datetime.apply(lambda x: x.minute)\n",
        "df['second'] = df.datetime.apply(lambda x: x.second)\n",
        "df['micosecond'] = df.datetime.apply(lambda x: x.microsecond)\n",
        "df.head()"
      ],
      "execution_count": 4,
      "outputs": [
        {
          "output_type": "execute_result",
          "data": {
            "text/html": [
              "<div>\n",
              "<style scoped>\n",
              "    .dataframe tbody tr th:only-of-type {\n",
              "        vertical-align: middle;\n",
              "    }\n",
              "\n",
              "    .dataframe tbody tr th {\n",
              "        vertical-align: top;\n",
              "    }\n",
              "\n",
              "    .dataframe thead th {\n",
              "        text-align: right;\n",
              "    }\n",
              "</style>\n",
              "<table border=\"1\" class=\"dataframe\">\n",
              "  <thead>\n",
              "    <tr style=\"text-align: right;\">\n",
              "      <th></th>\n",
              "      <th>datetime</th>\n",
              "      <th>No. of visitors</th>\n",
              "      <th>date</th>\n",
              "      <th>month</th>\n",
              "      <th>year</th>\n",
              "      <th>week</th>\n",
              "      <th>hour</th>\n",
              "      <th>time</th>\n",
              "      <th>minute</th>\n",
              "      <th>second</th>\n",
              "      <th>micosecond</th>\n",
              "    </tr>\n",
              "  </thead>\n",
              "  <tbody>\n",
              "    <tr>\n",
              "      <th>0</th>\n",
              "      <td>2001-01-01 00:00:00</td>\n",
              "      <td>2</td>\n",
              "      <td>2001-01-01</td>\n",
              "      <td>1</td>\n",
              "      <td>2001</td>\n",
              "      <td>0</td>\n",
              "      <td>0</td>\n",
              "      <td>&lt;built-in method time of Timestamp object at 0...</td>\n",
              "      <td>0</td>\n",
              "      <td>0</td>\n",
              "      <td>0</td>\n",
              "    </tr>\n",
              "    <tr>\n",
              "      <th>1</th>\n",
              "      <td>2001-01-01 00:01:00</td>\n",
              "      <td>1</td>\n",
              "      <td>2001-01-01</td>\n",
              "      <td>1</td>\n",
              "      <td>2001</td>\n",
              "      <td>0</td>\n",
              "      <td>0</td>\n",
              "      <td>&lt;built-in method time of Timestamp object at 0...</td>\n",
              "      <td>1</td>\n",
              "      <td>0</td>\n",
              "      <td>0</td>\n",
              "    </tr>\n",
              "    <tr>\n",
              "      <th>2</th>\n",
              "      <td>2001-01-01 00:02:00</td>\n",
              "      <td>3</td>\n",
              "      <td>2001-01-01</td>\n",
              "      <td>1</td>\n",
              "      <td>2001</td>\n",
              "      <td>0</td>\n",
              "      <td>0</td>\n",
              "      <td>&lt;built-in method time of Timestamp object at 0...</td>\n",
              "      <td>2</td>\n",
              "      <td>0</td>\n",
              "      <td>0</td>\n",
              "    </tr>\n",
              "    <tr>\n",
              "      <th>3</th>\n",
              "      <td>2001-01-01 00:03:00</td>\n",
              "      <td>0</td>\n",
              "      <td>2001-01-01</td>\n",
              "      <td>1</td>\n",
              "      <td>2001</td>\n",
              "      <td>0</td>\n",
              "      <td>0</td>\n",
              "      <td>&lt;built-in method time of Timestamp object at 0...</td>\n",
              "      <td>3</td>\n",
              "      <td>0</td>\n",
              "      <td>0</td>\n",
              "    </tr>\n",
              "    <tr>\n",
              "      <th>4</th>\n",
              "      <td>2001-01-01 00:04:00</td>\n",
              "      <td>2</td>\n",
              "      <td>2001-01-01</td>\n",
              "      <td>1</td>\n",
              "      <td>2001</td>\n",
              "      <td>0</td>\n",
              "      <td>0</td>\n",
              "      <td>&lt;built-in method time of Timestamp object at 0...</td>\n",
              "      <td>4</td>\n",
              "      <td>0</td>\n",
              "      <td>0</td>\n",
              "    </tr>\n",
              "  </tbody>\n",
              "</table>\n",
              "</div>"
            ],
            "text/plain": [
              "             datetime  No. of visitors        date  ...  minute  second  micosecond\n",
              "0 2001-01-01 00:00:00                2  2001-01-01  ...       0       0           0\n",
              "1 2001-01-01 00:01:00                1  2001-01-01  ...       1       0           0\n",
              "2 2001-01-01 00:02:00                3  2001-01-01  ...       2       0           0\n",
              "3 2001-01-01 00:03:00                0  2001-01-01  ...       3       0           0\n",
              "4 2001-01-01 00:04:00                2  2001-01-01  ...       4       0           0\n",
              "\n",
              "[5 rows x 11 columns]"
            ]
          },
          "metadata": {},
          "execution_count": 4
        }
      ]
    },
    {
      "cell_type": "markdown",
      "metadata": {
        "id": "YHhRwe0vYqBr"
      },
      "source": [
        "## add_datepart package from Fastai library"
      ]
    },
    {
      "cell_type": "code",
      "metadata": {
        "colab": {
          "base_uri": "https://localhost:8080/",
          "height": 275
        },
        "id": "1YLosnQwQp1K",
        "outputId": "13822594-e4d2-468a-ec16-5cda90f6f6ac"
      },
      "source": [
        "df = df1.copy()\n",
        "df = add_datepart(df, 'datetime')\n",
        "df.head()"
      ],
      "execution_count": 5,
      "outputs": [
        {
          "output_type": "stream",
          "text": [
            "/usr/local/lib/python3.7/dist-packages/fastai/tabular/transform.py:63: FutureWarning: Series.dt.weekofyear and Series.dt.week have been deprecated.  Please use Series.dt.isocalendar().week instead.\n",
            "  for n in attr: df[prefix + n] = getattr(field.dt, n.lower())\n"
          ],
          "name": "stderr"
        },
        {
          "output_type": "execute_result",
          "data": {
            "text/html": [
              "<div>\n",
              "<style scoped>\n",
              "    .dataframe tbody tr th:only-of-type {\n",
              "        vertical-align: middle;\n",
              "    }\n",
              "\n",
              "    .dataframe tbody tr th {\n",
              "        vertical-align: top;\n",
              "    }\n",
              "\n",
              "    .dataframe thead th {\n",
              "        text-align: right;\n",
              "    }\n",
              "</style>\n",
              "<table border=\"1\" class=\"dataframe\">\n",
              "  <thead>\n",
              "    <tr style=\"text-align: right;\">\n",
              "      <th></th>\n",
              "      <th>No. of visitors</th>\n",
              "      <th>datetimeYear</th>\n",
              "      <th>datetimeMonth</th>\n",
              "      <th>datetimeWeek</th>\n",
              "      <th>datetimeDay</th>\n",
              "      <th>datetimeDayofweek</th>\n",
              "      <th>datetimeDayofyear</th>\n",
              "      <th>datetimeIs_month_end</th>\n",
              "      <th>datetimeIs_month_start</th>\n",
              "      <th>datetimeIs_quarter_end</th>\n",
              "      <th>datetimeIs_quarter_start</th>\n",
              "      <th>datetimeIs_year_end</th>\n",
              "      <th>datetimeIs_year_start</th>\n",
              "      <th>datetimeElapsed</th>\n",
              "    </tr>\n",
              "  </thead>\n",
              "  <tbody>\n",
              "    <tr>\n",
              "      <th>0</th>\n",
              "      <td>2</td>\n",
              "      <td>2001</td>\n",
              "      <td>1</td>\n",
              "      <td>1</td>\n",
              "      <td>1</td>\n",
              "      <td>0</td>\n",
              "      <td>1</td>\n",
              "      <td>False</td>\n",
              "      <td>True</td>\n",
              "      <td>False</td>\n",
              "      <td>True</td>\n",
              "      <td>False</td>\n",
              "      <td>True</td>\n",
              "      <td>978307200</td>\n",
              "    </tr>\n",
              "    <tr>\n",
              "      <th>1</th>\n",
              "      <td>1</td>\n",
              "      <td>2001</td>\n",
              "      <td>1</td>\n",
              "      <td>1</td>\n",
              "      <td>1</td>\n",
              "      <td>0</td>\n",
              "      <td>1</td>\n",
              "      <td>False</td>\n",
              "      <td>True</td>\n",
              "      <td>False</td>\n",
              "      <td>True</td>\n",
              "      <td>False</td>\n",
              "      <td>True</td>\n",
              "      <td>978307260</td>\n",
              "    </tr>\n",
              "    <tr>\n",
              "      <th>2</th>\n",
              "      <td>3</td>\n",
              "      <td>2001</td>\n",
              "      <td>1</td>\n",
              "      <td>1</td>\n",
              "      <td>1</td>\n",
              "      <td>0</td>\n",
              "      <td>1</td>\n",
              "      <td>False</td>\n",
              "      <td>True</td>\n",
              "      <td>False</td>\n",
              "      <td>True</td>\n",
              "      <td>False</td>\n",
              "      <td>True</td>\n",
              "      <td>978307320</td>\n",
              "    </tr>\n",
              "    <tr>\n",
              "      <th>3</th>\n",
              "      <td>0</td>\n",
              "      <td>2001</td>\n",
              "      <td>1</td>\n",
              "      <td>1</td>\n",
              "      <td>1</td>\n",
              "      <td>0</td>\n",
              "      <td>1</td>\n",
              "      <td>False</td>\n",
              "      <td>True</td>\n",
              "      <td>False</td>\n",
              "      <td>True</td>\n",
              "      <td>False</td>\n",
              "      <td>True</td>\n",
              "      <td>978307380</td>\n",
              "    </tr>\n",
              "    <tr>\n",
              "      <th>4</th>\n",
              "      <td>2</td>\n",
              "      <td>2001</td>\n",
              "      <td>1</td>\n",
              "      <td>1</td>\n",
              "      <td>1</td>\n",
              "      <td>0</td>\n",
              "      <td>1</td>\n",
              "      <td>False</td>\n",
              "      <td>True</td>\n",
              "      <td>False</td>\n",
              "      <td>True</td>\n",
              "      <td>False</td>\n",
              "      <td>True</td>\n",
              "      <td>978307440</td>\n",
              "    </tr>\n",
              "  </tbody>\n",
              "</table>\n",
              "</div>"
            ],
            "text/plain": [
              "   No. of visitors  datetimeYear  ...  datetimeIs_year_start  datetimeElapsed\n",
              "0                2          2001  ...                   True        978307200\n",
              "1                1          2001  ...                   True        978307260\n",
              "2                3          2001  ...                   True        978307320\n",
              "3                0          2001  ...                   True        978307380\n",
              "4                2          2001  ...                   True        978307440\n",
              "\n",
              "[5 rows x 14 columns]"
            ]
          },
          "metadata": {},
          "execution_count": 5
        }
      ]
    },
    {
      "cell_type": "markdown",
      "metadata": {
        "id": "4Zl7NoD0Zgcz"
      },
      "source": [
        "As we can see in just one line of code we created datetime features. But one can also note that mean while we have actually lost the original datetime column."
      ]
    }
  ]
}